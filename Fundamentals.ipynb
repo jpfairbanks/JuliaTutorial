{
 "cells": [
  {
   "cell_type": "markdown",
   "metadata": {},
   "source": [
    "# Intro to Julia\n"
   ]
  },
  {
   "cell_type": "markdown",
   "metadata": {},
   "source": [
    "Why would you want to use Julia? \n",
    "\n",
    "1. To go fast: https://julialang.org/benchmarks/\n",
    "2. To learn how to write better code\n",
    "3. To use killer apps: http://www.juliaopt.org/notebooks/JuMP-Rocket.html\n",
    "4. To run ML on TPUs: https://arxiv.org/pdf/1810.09868.pdf"
   ]
  },
  {
   "cell_type": "markdown",
   "metadata": {},
   "source": [
    "### How do I learn Julia?\n",
    "\n",
    "1. Lots of great tutorials https://julialang.org/learning/\n",
    "2. Getting started is easy https://juliabox.com/"
   ]
  },
  {
   "cell_type": "markdown",
   "metadata": {},
   "source": [
    "## Functions"
   ]
  },
  {
   "cell_type": "code",
   "execution_count": 1,
   "metadata": {},
   "outputs": [
    {
     "data": {
      "text/plain": [
       "plusone (generic function with 1 method)"
      ]
     },
     "execution_count": 1,
     "metadata": {},
     "output_type": "execute_result"
    }
   ],
   "source": [
    "function plusone(x)\n",
    "    return x + 1\n",
    "end"
   ]
  },
  {
   "cell_type": "code",
   "execution_count": 2,
   "metadata": {},
   "outputs": [
    {
     "data": {
      "text/plain": [
       "4"
      ]
     },
     "execution_count": 2,
     "metadata": {},
     "output_type": "execute_result"
    }
   ],
   "source": [
    "plusone(3)"
   ]
  },
  {
   "cell_type": "code",
   "execution_count": 3,
   "metadata": {},
   "outputs": [
    {
     "data": {
      "text/plain": [
       "1.75"
      ]
     },
     "execution_count": 3,
     "metadata": {},
     "output_type": "execute_result"
    }
   ],
   "source": [
    "plusone(3/4)"
   ]
  },
  {
   "cell_type": "code",
   "execution_count": 4,
   "metadata": {},
   "outputs": [
    {
     "data": {
      "text/plain": [
       "7//4"
      ]
     },
     "execution_count": 4,
     "metadata": {},
     "output_type": "execute_result"
    }
   ],
   "source": [
    "plusone(3//4)"
   ]
  },
  {
   "cell_type": "code",
   "execution_count": 5,
   "metadata": {},
   "outputs": [
    {
     "data": {
      "text/plain": [
       "Rational{Int64}"
      ]
     },
     "execution_count": 5,
     "metadata": {},
     "output_type": "execute_result"
    }
   ],
   "source": [
    "typeof(3//4)"
   ]
  },
  {
   "cell_type": "code",
   "execution_count": 6,
   "metadata": {},
   "outputs": [
    {
     "ename": "MethodError",
     "evalue": "MethodError: no method matching +(::Array{Int64,1}, ::Int64)\nClosest candidates are:\n  +(::Any, ::Any, !Matched::Any, !Matched::Any...) at operators.jl:502\n  +(!Matched::Complex{Bool}, ::Real) at complex.jl:292\n  +(!Matched::Missing, ::Number) at missing.jl:93\n  ...",
     "output_type": "error",
     "traceback": [
      "MethodError: no method matching +(::Array{Int64,1}, ::Int64)\nClosest candidates are:\n  +(::Any, ::Any, !Matched::Any, !Matched::Any...) at operators.jl:502\n  +(!Matched::Complex{Bool}, ::Real) at complex.jl:292\n  +(!Matched::Missing, ::Number) at missing.jl:93\n  ...",
      "",
      "Stacktrace:",
      " [1] plusone(::Array{Int64,1}) at ./In[1]:2",
      " [2] top-level scope at In[6]:1"
     ]
    }
   ],
   "source": [
    "plusone([1,2,3])"
   ]
  },
  {
   "cell_type": "code",
   "execution_count": 7,
   "metadata": {},
   "outputs": [
    {
     "data": {
      "text/plain": [
       "3-element Array{Int64,1}:\n",
       " 2\n",
       " 3\n",
       " 4"
      ]
     },
     "execution_count": 7,
     "metadata": {},
     "output_type": "execute_result"
    }
   ],
   "source": [
    "plusone.([1,2,3])"
   ]
  },
  {
   "cell_type": "markdown",
   "metadata": {},
   "source": [
    "Julia has anonymous (lambda) functions and higher order functions."
   ]
  },
  {
   "cell_type": "code",
   "execution_count": 8,
   "metadata": {},
   "outputs": [
    {
     "data": {
      "text/plain": [
       "3-element Array{Int64,1}:\n",
       " 2\n",
       " 4\n",
       " 6"
      ]
     },
     "execution_count": 8,
     "metadata": {},
     "output_type": "execute_result"
    }
   ],
   "source": [
    "f = x -> 2x\n",
    "map(f, [1,2,3])"
   ]
  },
  {
   "cell_type": "markdown",
   "metadata": {},
   "source": [
    "You can define multiple methods on a single function, by using type constraints"
   ]
  },
  {
   "cell_type": "code",
   "execution_count": 9,
   "metadata": {},
   "outputs": [
    {
     "data": {
      "text/plain": [
       "plusone (generic function with 2 methods)"
      ]
     },
     "execution_count": 9,
     "metadata": {},
     "output_type": "execute_result"
    }
   ],
   "source": [
    "function plusone(f::Function)\n",
    "    return x->1+f(x)\n",
    "end\n"
   ]
  },
  {
   "cell_type": "code",
   "execution_count": 10,
   "metadata": {},
   "outputs": [
    {
     "data": {
      "text/plain": [
       "#5 (generic function with 1 method)"
      ]
     },
     "execution_count": 10,
     "metadata": {},
     "output_type": "execute_result"
    }
   ],
   "source": [
    "plusone(x->2x)"
   ]
  },
  {
   "cell_type": "code",
   "execution_count": 11,
   "metadata": {},
   "outputs": [
    {
     "data": {
      "text/plain": [
       "7"
      ]
     },
     "execution_count": 11,
     "metadata": {},
     "output_type": "execute_result"
    }
   ],
   "source": [
    "plusone(x->2x)(3)"
   ]
  },
  {
   "cell_type": "code",
   "execution_count": 12,
   "metadata": {},
   "outputs": [
    {
     "data": {
      "text/plain": [
       "3-element Array{Int64,1}:\n",
       " 3\n",
       " 5\n",
       " 7"
      ]
     },
     "execution_count": 12,
     "metadata": {},
     "output_type": "execute_result"
    }
   ],
   "source": [
    "plusone(x->2x).([1,2,3])"
   ]
  },
  {
   "cell_type": "markdown",
   "metadata": {},
   "source": [
    "## Types\n",
    "\n",
    "Most dynamic languages have you ignore types as much as possible, which is fine for scripting. But, serious software always requires reasoning about types."
   ]
  },
  {
   "cell_type": "code",
   "execution_count": 13,
   "metadata": {},
   "outputs": [],
   "source": [
    "struct IntPair\n",
    "    x::Int\n",
    "    y::Int\n",
    "end\n"
   ]
  },
  {
   "cell_type": "code",
   "execution_count": 14,
   "metadata": {},
   "outputs": [
    {
     "data": {
      "text/plain": [
       "IntPair(1, 2)"
      ]
     },
     "execution_count": 14,
     "metadata": {},
     "output_type": "execute_result"
    }
   ],
   "source": [
    "IntPair(1,2)"
   ]
  },
  {
   "cell_type": "code",
   "execution_count": 15,
   "metadata": {},
   "outputs": [
    {
     "ename": "MethodError",
     "evalue": "MethodError: no method matching +(::IntPair, ::IntPair)\nClosest candidates are:\n  +(::Any, ::Any, !Matched::Any, !Matched::Any...) at operators.jl:502",
     "output_type": "error",
     "traceback": [
      "MethodError: no method matching +(::IntPair, ::IntPair)\nClosest candidates are:\n  +(::Any, ::Any, !Matched::Any, !Matched::Any...) at operators.jl:502",
      "",
      "Stacktrace:",
      " [1] top-level scope at In[15]:1"
     ]
    }
   ],
   "source": [
    "IntPair(2,3) + IntPair(4,5)"
   ]
  },
  {
   "cell_type": "code",
   "execution_count": 16,
   "metadata": {},
   "outputs": [
    {
     "data": {
      "text/plain": [
       "+ (generic function with 164 methods)"
      ]
     },
     "execution_count": 16,
     "metadata": {},
     "output_type": "execute_result"
    }
   ],
   "source": [
    "import Base: +\n",
    "+(a::IntPair, b::IntPair) = IntPair(a.x + b.x, a.y + b.y)"
   ]
  },
  {
   "cell_type": "code",
   "execution_count": 17,
   "metadata": {},
   "outputs": [
    {
     "data": {
      "text/plain": [
       "IntPair(6, 8)"
      ]
     },
     "execution_count": 17,
     "metadata": {},
     "output_type": "execute_result"
    }
   ],
   "source": [
    "IntPair(2,3) + IntPair(4,5)"
   ]
  },
  {
   "cell_type": "code",
   "execution_count": 18,
   "metadata": {},
   "outputs": [
    {
     "data": {
      "text/plain": [
       "4-element Array{IntPair,1}:\n",
       " IntPair(1, 2)\n",
       " IntPair(2, 4)\n",
       " IntPair(3, 6)\n",
       " IntPair(4, 8)"
      ]
     },
     "execution_count": 18,
     "metadata": {},
     "output_type": "execute_result"
    }
   ],
   "source": [
    "v = [IntPair(1,2), IntPair(2,4), IntPair(3,6), IntPair(4,8)]"
   ]
  },
  {
   "cell_type": "code",
   "execution_count": 19,
   "metadata": {},
   "outputs": [
    {
     "name": "stdout",
     "output_type": "stream",
     "text": [
      "Array{IntPair}((4,))\n",
      "  1: IntPair\n",
      "    x: Int64 1\n",
      "    y: Int64 2\n",
      "  2: IntPair\n",
      "    x: Int64 2\n",
      "    y: Int64 4\n",
      "  3: IntPair\n",
      "    x: Int64 3\n",
      "    y: Int64 6\n",
      "  4: IntPair\n",
      "    x: Int64 4\n",
      "    y: Int64 8\n"
     ]
    }
   ],
   "source": [
    "dump(v)"
   ]
  },
  {
   "cell_type": "code",
   "execution_count": 20,
   "metadata": {},
   "outputs": [
    {
     "data": {
      "text/plain": [
       "4"
      ]
     },
     "execution_count": 20,
     "metadata": {},
     "output_type": "execute_result"
    }
   ],
   "source": [
    "length(v)"
   ]
  },
  {
   "cell_type": "code",
   "execution_count": 21,
   "metadata": {},
   "outputs": [
    {
     "data": {
      "text/plain": [
       "64"
      ]
     },
     "execution_count": 21,
     "metadata": {},
     "output_type": "execute_result"
    }
   ],
   "source": [
    "sizeof(v)"
   ]
  },
  {
   "cell_type": "code",
   "execution_count": 22,
   "metadata": {},
   "outputs": [
    {
     "data": {
      "text/plain": [
       "Ptr{IntPair} @0x000000011298c8c0"
      ]
     },
     "execution_count": 22,
     "metadata": {},
     "output_type": "execute_result"
    }
   ],
   "source": [
    "ptr = pointer(v)"
   ]
  },
  {
   "cell_type": "code",
   "execution_count": 23,
   "metadata": {},
   "outputs": [
    {
     "data": {
      "text/plain": [
       "IntPair(3, 6)"
      ]
     },
     "execution_count": 23,
     "metadata": {},
     "output_type": "execute_result"
    }
   ],
   "source": [
    "unsafe_load(ptr, 3)"
   ]
  },
  {
   "cell_type": "code",
   "execution_count": 24,
   "metadata": {},
   "outputs": [
    {
     "data": {
      "text/plain": [
       "1 => 2"
      ]
     },
     "execution_count": 24,
     "metadata": {},
     "output_type": "execute_result"
    }
   ],
   "source": [
    "pair = Pair(1,2)"
   ]
  },
  {
   "cell_type": "code",
   "execution_count": 25,
   "metadata": {},
   "outputs": [
    {
     "data": {
      "text/plain": [
       "Pair{Int64,Int64}"
      ]
     },
     "execution_count": 25,
     "metadata": {},
     "output_type": "execute_result"
    }
   ],
   "source": [
    "typeof(pair)"
   ]
  },
  {
   "cell_type": "code",
   "execution_count": 26,
   "metadata": {},
   "outputs": [
    {
     "data": {
      "text/plain": [
       "Pair{Int64,Rational{Int64}}"
      ]
     },
     "execution_count": 26,
     "metadata": {},
     "output_type": "execute_result"
    }
   ],
   "source": [
    "typeof(Pair(1,4//5))"
   ]
  },
  {
   "cell_type": "code",
   "execution_count": 27,
   "metadata": {},
   "outputs": [
    {
     "name": "stdout",
     "output_type": "stream",
     "text": [
      "Unknown editor: no line number information passed.\n",
      "The method is defined at line 15.\n"
     ]
    }
   ],
   "source": [
    "@edit Pair(1,2)"
   ]
  },
  {
   "cell_type": "markdown",
   "metadata": {},
   "source": [
    "## Definition of Pair\n",
    "\n",
    "```julia\n",
    "struct Pair{A, B}\n",
    "    first::A\n",
    "    second::B\n",
    "    function Pair{A, B}(@nospecialize(a), @nospecialize(b)) where {A, B}\n",
    "        @_inline_meta\n",
    "        # if we didn't inline this, it's probably because the callsite was actually dynamic\n",
    "        # to avoid potentially compiling many copies of this, we mark the arguments with `@nospecialize`\n",
    "        # but also mark the whole function with `@inline` to ensure we will inline it whenever possible\n",
    "        # (even if `convert(::Type{A}, a::A)` for some reason was expensive)\n",
    "        return new(a, b)\n",
    "    end\n",
    "end\n",
    "Pair(a, b) = Pair{typeof(a), typeof(b)}(a, b)\n",
    "const => = Pair\n",
    "```\n",
    "\n",
    "\n",
    "\"\"\"\n",
    "    Pair(x, y)\n",
    "    x => y\n",
    "\n",
    "Construct a `Pair` object with type `Pair{typeof(x), typeof(y)}`. The elements\n",
    "are stored in the fields `first` and `second`. They can also be accessed via\n",
    "iteration.\n",
    "\n",
    "See also: [`Dict`](@ref)\n",
    "\n",
    "## Examples\n",
    "\n",
    "\n",
    "```jldoctest\n",
    "julia> p = \"foo\" => 7\n",
    "\"foo\" => 7\n",
    "\n",
    "julia> typeof(p)\n",
    "Pair{String,Int64}\n",
    "\n",
    "julia> p.first\n",
    "\"foo\"\n",
    "\n",
    "julia> for x in p\n",
    "           println(x)\n",
    "       end\n",
    "foo\n",
    "7\n",
    "```\n",
    "\n",
    "## More functions\n",
    "```julia\n",
    "\n",
    "eltype(p::Type{Pair{A, B}}) where {A, B} = Union{A, B}\n",
    "iterate(p::Pair, i=1) = i > 2 ? nothing : (getfield(p, i), i + 1)\n",
    "indexed_iterate(p::Pair, i::Int, state=1) = (getfield(p, i), i + 1)\n",
    "\n",
    "hash(p::Pair, h::UInt) = hash(p.second, hash(p.first, h))\n",
    "\n",
    "==(p::Pair, q::Pair) = (p.first==q.first) & (p.second==q.second)\n",
    "isequal(p::Pair, q::Pair) = isequal(p.first,q.first) & isequal(p.second,q.second)\n",
    "\n",
    "isless(p::Pair, q::Pair) = ifelse(!isequal(p.first,q.first), isless(p.first,q.first),\n",
    "                                                             isless(p.second,q.second))\n",
    "getindex(p::Pair,i::Int) = getfield(p,i)\n",
    "getindex(p::Pair,i::Real) = getfield(p, convert(Int, i))\n",
    "reverse(p::Pair{A,B}) where {A,B} = Pair{B,A}(p.second, p.first)\n",
    "\n",
    "firstindex(p::Pair) = 1\n",
    "lastindex(p::Pair) = 2\n",
    "length(p::Pair) = 2\n",
    "first(p::Pair) = p.first\n",
    "last(p::Pair) = p.second\n",
    "\n",
    "convert(::Type{Pair{A,B}}, x::Pair{A,B}) where {A,B} = x\n",
    "function convert(::Type{Pair{A,B}}, x::Pair) where {A,B}\n",
    "    Pair{A,B}(convert(A, x[1]), convert(B, x[2]))\n",
    "end\n",
    "\n",
    "promote_rule(::Type{Pair{A1,B1}}, ::Type{Pair{A2,B2}}) where {A1,B1,A2,B2} =\n",
    "    Pair{promote_type(A1, A2), promote_type(B1, B2)}\n",
    "```"
   ]
  },
  {
   "cell_type": "markdown",
   "metadata": {},
   "source": [
    "## Abstract Types\n",
    "\n",
    "Types come in two forms, abstract types which can be extended, but not instantiated and concrete types which can be instantiated but not extended.\n",
    "\n"
   ]
  },
  {
   "cell_type": "code",
   "execution_count": 28,
   "metadata": {},
   "outputs": [],
   "source": [
    "abstract type Person end\n",
    "abstract type Color end\n",
    "abstract type AbstractTeam end\n",
    "abstract type SportsTeam <: AbstractTeam end\n",
    "struct FootballTeam <: SportsTeam\n",
    "    players::AbstractArray{Person}\n",
    "    coach::Person\n",
    "    name::String\n",
    "    colors::Pair{Color, Color}\n",
    "end\n"
   ]
  },
  {
   "cell_type": "markdown",
   "metadata": {},
   "source": [
    "## Macros\n",
    "You can define new syntax in julia using macros, which are function that take source code as their argument."
   ]
  },
  {
   "cell_type": "code",
   "execution_count": 29,
   "metadata": {},
   "outputs": [
    {
     "name": "stdout",
     "output_type": "stream",
     "text": [
      "0 1 2 3 4 5 6 7 8 9 "
     ]
    }
   ],
   "source": [
    "let\n",
    "    i = 0 \n",
    "    while i < 10\n",
    "        print(i,\" \")\n",
    "        i = i + 1\n",
    "    end\n",
    "end"
   ]
  },
  {
   "cell_type": "code",
   "execution_count": 30,
   "metadata": {},
   "outputs": [
    {
     "ename": "LoadError",
     "evalue": "syntax: extra token \"i\" after end of expression",
     "output_type": "error",
     "traceback": [
      "syntax: extra token \"i\" after end of expression",
      ""
     ]
    }
   ],
   "source": [
    "until i == 10\n",
    "    print(i, \" \")\n",
    "end"
   ]
  },
  {
   "cell_type": "code",
   "execution_count": 31,
   "metadata": {},
   "outputs": [
    {
     "data": {
      "text/plain": [
       "@until (macro with 1 method)"
      ]
     },
     "execution_count": 31,
     "metadata": {},
     "output_type": "execute_result"
    }
   ],
   "source": [
    "macro until(condition, block)\n",
    "    quote\n",
    "        while true\n",
    "            $(esc(block))\n",
    "            if $(esc(condition))\n",
    "                break\n",
    "            end\n",
    "        end\n",
    "    end\n",
    "end"
   ]
  },
  {
   "cell_type": "code",
   "execution_count": 32,
   "metadata": {},
   "outputs": [
    {
     "name": "stdout",
     "output_type": "stream",
     "text": [
      "0 1 2 3 4 5 6 7 8 9 "
     ]
    }
   ],
   "source": [
    "let \n",
    "    i = 0\n",
    "    @until i >= 10 begin\n",
    "    print(i, \" \")\n",
    "    i += 1\n",
    "end\n",
    "end"
   ]
  },
  {
   "cell_type": "markdown",
   "metadata": {},
   "source": [
    "### Horner's rule\n",
    "\n",
    "You can save a lot of computation with macros.\n",
    "```julia\n",
    "\"\"\"\n",
    "    @horner(x, p...)\n",
    "    Evaluate p[1] + x * (p[2] + x * (....)), i.e. a polynomial via Horner's rule\n",
    "\"\"\"\n",
    "macro horner(x, p...)\n",
    "    ex = esc(p[end])\n",
    "    for i = length(p)-1:-1:1\n",
    "        ex = :(muladd(t, $ex, $(esc(p[i]))))\n",
    "    end\n",
    "    Expr(:block, :(t = $(esc(x))), ex)\n",
    "end\n",
    "```"
   ]
  },
  {
   "cell_type": "code",
   "execution_count": 33,
   "metadata": {},
   "outputs": [
    {
     "data": {
      "text/plain": [
       "quote\n",
       "    #4#t = 5\n",
       "    (Base.Math.muladd)(#4#t, (Base.Math.muladd)(#4#t, 3, 2), 1)\n",
       "end"
      ]
     },
     "execution_count": 33,
     "metadata": {},
     "output_type": "execute_result"
    }
   ],
   "source": [
    "using Base.Math\n",
    "@macroexpand Math.@horner 5 1 2 3"
   ]
  },
  {
   "cell_type": "code",
   "execution_count": 34,
   "metadata": {},
   "outputs": [
    {
     "name": "stdout",
     "output_type": "stream",
     "text": [
      "  0.030 ns (0 allocations: 0 bytes)\n"
     ]
    },
    {
     "data": {
      "text/plain": [
       "756836"
      ]
     },
     "execution_count": 34,
     "metadata": {},
     "output_type": "execute_result"
    }
   ],
   "source": [
    "using BenchmarkTools\n",
    "@btime Math.@horner(5, 1,2,3,4,5,6,7,8)"
   ]
  },
  {
   "cell_type": "code",
   "execution_count": 35,
   "metadata": {},
   "outputs": [
    {
     "name": "stdout",
     "output_type": "stream",
     "text": [
      "  9.775 ns (0 allocations: 0 bytes)\n"
     ]
    },
    {
     "data": {
      "text/plain": [
       "756836"
      ]
     },
     "execution_count": 35,
     "metadata": {},
     "output_type": "execute_result"
    }
   ],
   "source": [
    "@btime 1 + 2*5 + 3*5^2 + 4*5^3 + 5*5^4 + 6*5^5 + 7*5^6 + 8*5^7"
   ]
  },
  {
   "cell_type": "code",
   "execution_count": 36,
   "metadata": {},
   "outputs": [
    {
     "name": "stdout",
     "output_type": "stream",
     "text": [
      "  34.592 ns (0 allocations: 0 bytes)\n"
     ]
    }
   ],
   "source": [
    "p = [1,2,3,4,5,6,7,8]\n",
    "function poly(p)\n",
    "    y = 0\n",
    "    for i in 1:8\n",
    "        y += p[i] * 5^i\n",
    "    end\n",
    "end\n",
    "poly(p)\n",
    "@btime poly(p)"
   ]
  },
  {
   "cell_type": "markdown",
   "metadata": {},
   "source": [
    "## Understanding Performance\n",
    "\n",
    "Julia is fast because it is not a dynamic language, it dynamically compiles static code."
   ]
  },
  {
   "cell_type": "code",
   "execution_count": 37,
   "metadata": {},
   "outputs": [
    {
     "name": "stdout",
     "output_type": "stream",
     "text": [
      "\n",
      "; Function +\n",
      "; Location: int.jl:53\n",
      "define i64 @\"julia_+_35442\"(i64, i64) {\n",
      "top:\n",
      "  %2 = add i64 %1, %0\n",
      "  ret i64 %2\n",
      "}\n"
     ]
    }
   ],
   "source": [
    "@code_llvm 5+6"
   ]
  },
  {
   "cell_type": "code",
   "execution_count": 38,
   "metadata": {},
   "outputs": [
    {
     "name": "stdout",
     "output_type": "stream",
     "text": [
      "\t.section\t__TEXT,__text,regular,pure_instructions\n",
      "; Function loopit {\n",
      "; Location: In[38]:2\n",
      "\tmovl\t$55, %eax\n",
      "\tretl\n",
      "\tnopw\t%cs:(%eax,%eax)\n",
      ";}\n"
     ]
    }
   ],
   "source": [
    "function loopit() \n",
    "    j = 0\n",
    "    for i in 1:10\n",
    "        j += i\n",
    "    end\n",
    "    return j\n",
    "end\n",
    "\n",
    "@code_native loopit()"
   ]
  },
  {
   "cell_type": "code",
   "execution_count": 39,
   "metadata": {},
   "outputs": [
    {
     "name": "stdout",
     "output_type": "stream",
     "text": [
      "\t.section\t__TEXT,__text,regular,pure_instructions\n",
      "; Function loopit {\n",
      "; Location: In[39]:3\n",
      "; Function Colon; {\n",
      "; Location: range.jl:5\n",
      "; Function Type; {\n",
      "; Location: range.jl:255\n",
      "; Function unitrange_last; {\n",
      "; Location: range.jl:260\n",
      "; Function >=; {\n",
      "; Location: operators.jl:333\n",
      "; Function <=; {\n",
      "; Location: In[39]:2\n",
      "\tdecl\t%eax\n",
      "\ttestl\t%edi, %edi\n",
      ";}}}}}\n",
      "\tjle\tL32\n",
      "\tdecl\t%eax\n",
      "\tleal\t-1(%edi), %edx\n",
      "\tdecl\t%eax\n",
      "\tleal\t-2(%edi), %eax\n",
      "\tmulxl\t%eax, %eax, %ecx\n",
      "\tdecl\t%eax\n",
      "\tshldl\t$63, %eax, %ecx\n",
      "\tdecl\t%eax\n",
      "\tleal\t(%ecx,%edi,2), %eax\n",
      "\tdecl\t%eax\n",
      "\taddl\t$-1, %eax\n",
      "; Location: In[39]:6\n",
      "\tretl\n",
      "L32:\n",
      "\txorl\t%eax, %eax\n",
      "; Location: In[39]:6\n",
      "\tretl\n",
      "\tnopw\t%cs:(%eax,%eax)\n",
      ";}\n"
     ]
    }
   ],
   "source": [
    "function loopit(n::Int) \n",
    "    j = 0\n",
    "    for i in 1:n\n",
    "        j += i\n",
    "    end\n",
    "    return j\n",
    "end\n",
    "\n",
    "@code_native loopit(15)"
   ]
  },
  {
   "cell_type": "markdown",
   "metadata": {},
   "source": [
    "<img href=\"./\">"
   ]
  },
  {
   "cell_type": "markdown",
   "metadata": {},
   "source": [
    "<img src=\"./godbolt_loopit.png\">"
   ]
  }
 ],
 "metadata": {
  "kernelspec": {
   "display_name": "Julia 1.0.0",
   "language": "julia",
   "name": "julia-1.0"
  },
  "language_info": {
   "file_extension": ".jl",
   "mimetype": "application/julia",
   "name": "julia",
   "version": "1.0.0"
  }
 },
 "nbformat": 4,
 "nbformat_minor": 2
}
