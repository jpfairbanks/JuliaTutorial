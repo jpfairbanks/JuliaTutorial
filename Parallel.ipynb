{
 "cells": [
  {
   "cell_type": "code",
   "execution_count": 8,
   "metadata": {},
   "outputs": [],
   "source": [
    "using Distributed"
   ]
  },
  {
   "cell_type": "code",
   "execution_count": 9,
   "metadata": {},
   "outputs": [
    {
     "data": {
      "text/plain": [
       "3-element Array{Int64,1}:\n",
       " 2\n",
       " 3\n",
       " 4"
      ]
     },
     "execution_count": 9,
     "metadata": {},
     "output_type": "execute_result"
    }
   ],
   "source": [
    "addprocs(3)"
   ]
  },
  {
   "cell_type": "code",
   "execution_count": 23,
   "metadata": {},
   "outputs": [
    {
     "name": "stdout",
     "output_type": "stream",
     "text": [
      "      From worker 2:\t(svd(randn(10, 10))).S[1] = 6.464464619426728\n",
      "      From worker 2:\t(svd(randn(10, 10))).S[1] = 5.251658463470373\n",
      "      From worker 2:\t(svd(randn(10, 10))).S[1] = 5.1529160408113555\n",
      "      From worker 2:\t(svd(randn(10, 10))).S[1] = 5.747751299687305\n",
      "      From worker 4:\t(svd(randn(10, 10))).S[1] = 6.568148862926666\n",
      "      From worker 4:\t(svd(randn(10, 10))).S[1] = 5.143129111255482\n",
      "      From worker 4:\t(svd(randn(10, 10))).S[1] = 5.58030688695713\n",
      "      From worker 3:\t(svd(randn(10, 10))).S[1] = 6.029567427723876\n",
      "      From worker 3:\t(svd(randn(10, 10))).S[1] = 5.131227949108335\n",
      "      From worker 3:\t(svd(randn(10, 10))).S[1] = 5.0091430348431025\n"
     ]
    },
    {
     "data": {
      "text/plain": [
       "56.07831369621035"
      ]
     },
     "execution_count": 23,
     "metadata": {},
     "output_type": "execute_result"
    }
   ],
   "source": [
    "@everywhere using LinearAlgebra\n",
    "@distributed (+) for i in 1:10\n",
    "    @show svd(randn(10,10)).S[1]\n",
    "end"
   ]
  },
  {
   "cell_type": "code",
   "execution_count": 5,
   "metadata": {},
   "outputs": [],
   "source": [
    "#= Julia code for launching jobs on the slurm cluster.\n",
    "\n",
    "This code is expected to be run from an sbatch script after a module load julia command has been run.\n",
    "It starts the remote processes with srun within an allocation.\n",
    "If you get an error make sure to Pkg.checkout(\"CluterManagers\").\n",
    "\n",
    "=#\n",
    "try\n",
    "\tusing ClusterManagers\n",
    "catch\n",
    "    using Pkg\n",
    "    Pkg.activate(\".\")\n",
    "\tPkg.add(\"ClusterManagers\")\n",
    "\tPkg.checkout(\"ClusterManagers\")\n",
    "end\n"
   ]
  },
  {
   "cell_type": "code",
   "execution_count": 6,
   "metadata": {},
   "outputs": [
    {
     "ename": "UndefVarError",
     "evalue": "UndefVarError: addprocs not defined",
     "output_type": "error",
     "traceback": [
      "UndefVarError: addprocs not defined",
      "",
      "Stacktrace:",
      " [1] top-level scope at In[6]:15"
     ]
    }
   ],
   "source": [
    "using ClusterManagers\n",
    "# Arguments to the Slurm srun(1) command can be given as keyword\n",
    "# arguments to addprocs.  The argument name and value is translated to\n",
    "# a srun(1) command line argument as follows:\n",
    "# 1) If the length of the argument is 1 => \"-arg value\",\n",
    "#    e.g. t=\"0:1:0\" => \"-t 0:1:0\"\n",
    "# 2) If the length of the argument is > 1 => \"--arg=value\"\n",
    "#    e.g. time=\"0:1:0\" => \"--time=0:1:0\"\n",
    "# 3) If the value is the empty string, it becomes a flag value,\n",
    "#    e.g. exclusive=\"\" => \"--exclusive\"\n",
    "# 4) If the argument contains \"_\", they are replaced with \"-\",\n",
    "#    e.g. mem_per_cpu=100 => \"--mem-per-cpu=100\"\n",
    "\n",
    "np = 4 #\n",
    "addprocs(SlurmManager(np), t=\"00:5:00\")"
   ]
  },
  {
   "cell_type": "code",
   "execution_count": null,
   "metadata": {},
   "outputs": [],
   "source": [
    "hosts = []\n",
    "pids = []\n",
    "println(\"We are all connected and ready.\")\n",
    "for i in workers()\n",
    "\thost, pid = fetch(@spawnat i (gethostname(), getpid()))\n",
    "\tprintln(host, pid)\n",
    "\tpush!(hosts, host)\n",
    "\tpush!(pids, pid)\n",
    "end\n",
    "\n",
    "# The Slurm resource allocation is released when all the workers have\n",
    "# exited\n",
    "for i in workers()\n",
    "\trmprocs(i)\n",
    "end"
   ]
  }
 ],
 "metadata": {
  "kernelspec": {
   "display_name": "Julia 1.0.0",
   "language": "julia",
   "name": "julia-1.0"
  },
  "language_info": {
   "file_extension": ".jl",
   "mimetype": "application/julia",
   "name": "julia",
   "version": "1.0.0"
  }
 },
 "nbformat": 4,
 "nbformat_minor": 2
}
