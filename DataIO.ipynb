{
 "cells": [
  {
   "cell_type": "markdown",
   "metadata": {},
   "source": [
    "# Julia for Data Science\n",
    "Based on a tutorial by [@nassarhuda](https://github.com/nassarhuda)! 😃\n",
    "\n",
    "In this tutorial, we will discuss why *Julia* is the tool you want to use for your data science applications.\n",
    "\n",
    "We will cover the following:\n",
    "* **Data**\n",
    "* Data processing\n",
    "* Visualization\n",
    "\n",
    "### Data: Build a strong relationship with your data.\n",
    "Every data science task has one main ingredient, the _data_! Most likely, you want to use your data to learn something new. But before the _new_ part, what about the data you already have? Let's make sure you can **read** it, **store** it, and **understand** it before you start using it.\n",
    "\n",
    "Julia makes this step really easy with data structures and packages to process the data, as well as, existing functions that are readily usable on your data. \n",
    "\n",
    "The goal of this first part is get you acquainted with some Julia's tools to manage your data."
   ]
  },
  {
   "cell_type": "code",
   "execution_count": 1,
   "metadata": {},
   "outputs": [
    {
     "name": "stdout",
     "output_type": "stream",
     "text": [
      "\u001b[32m\u001b[1m  Updating\u001b[22m\u001b[39m registry at `~/.julia/registries/General`\n",
      "\u001b[32m\u001b[1m  Updating\u001b[22m\u001b[39m git-repo `https://github.com/JuliaRegistries/General.git`\n",
      "\u001b[?25l\u001b[2K\u001b[?25h\u001b[32m\u001b[1m Resolving\u001b[22m\u001b[39m package versions...\n",
      "\u001b[32m\u001b[1m  Updating\u001b[22m\u001b[39m `Project.toml`\n",
      " \u001b[90m [336ed68f]\u001b[39m\u001b[92m + CSV v0.4.2\u001b[39m\n",
      "\u001b[32m\u001b[1m  Updating\u001b[22m\u001b[39m `Manifest.toml`\n",
      " \u001b[90m [336ed68f]\u001b[39m\u001b[92m + CSV v0.4.2\u001b[39m\n",
      " \u001b[90m [69de0a69]\u001b[39m\u001b[92m + Parsers v0.2.11\u001b[39m\n",
      "\u001b[32m\u001b[1m Resolving\u001b[22m\u001b[39m package versions...\n",
      "\u001b[32m\u001b[1m  Updating\u001b[22m\u001b[39m `Project.toml`\n",
      "\u001b[90m [no changes]\u001b[39m\n",
      "\u001b[32m\u001b[1m  Updating\u001b[22m\u001b[39m `Manifest.toml`\n",
      "\u001b[90m [no changes]\u001b[39m\n"
     ]
    }
   ],
   "source": [
    "using Pkg\n",
    "Pkg.activate(\".\")\n",
    "Pkg.add(\"CSV\")\n",
    "Pkg.add(\"DataFrames\")"
   ]
  },
  {
   "cell_type": "markdown",
   "metadata": {},
   "source": [
    "First, let's download a csv file from github that we can work with.\n",
    "\n",
    "Note: `download` depends on external tools such as curl, wget or fetch. So you must have one of these."
   ]
  },
  {
   "cell_type": "code",
   "execution_count": 2,
   "metadata": {},
   "outputs": [
    {
     "name": "stderr",
     "output_type": "stream",
     "text": [
      "  % Total    % Received % Xferd  Average Speed   Time    Time     Time  Current\n",
      "                                 Dload  Upload   Total   Spent    Left  Speed\n",
      "100   876  100   876    0     0   1093      0 --:--:-- --:--:-- --:--:--     0-- --:--:--  1092\n"
     ]
    },
    {
     "data": {
      "text/plain": [
       "\"programminglanguages.csv\""
      ]
     },
     "execution_count": 2,
     "metadata": {},
     "output_type": "execute_result"
    }
   ],
   "source": [
    "P = download(\"https://raw.githubusercontent.com/nassarhuda/easy_data/master/programming_languages.csv\",\"programminglanguages.csv\")"
   ]
  },
  {
   "cell_type": "markdown",
   "metadata": {},
   "source": [
    "We can use shell commands like `ls` in Julia by preceding them with a semicolon."
   ]
  },
  {
   "cell_type": "code",
   "execution_count": 3,
   "metadata": {},
   "outputs": [
    {
     "name": "stdout",
     "output_type": "stream",
     "text": [
      "1. Julia for Data Science - Data.ipynb\n",
      "Fundamentals.ipynb\n",
      "JuliaBoxTutorials\n",
      "ML.ipynb\n",
      "Manifest.toml\n",
      "Parallel.ipynb\n",
      "Project.toml\n",
      "README.md\n",
      "Snap_graph.ipynb\n",
      "UserGuide\n",
      "godbolt_loopit.png\n",
      "graphs.ipynb\n",
      "karate.txt\n",
      "ml.jl\n",
      "ml_ode.jl\n",
      "programminglanguages.csv\n",
      "triangles.ipynb\n",
      "uf_colors.png\n"
     ]
    }
   ],
   "source": [
    ";ls"
   ]
  },
  {
   "cell_type": "markdown",
   "metadata": {},
   "source": [
    "And there's the *.csv file we downloaded!\n",
    "\n",
    "By default, `readcsv` will fill an array with the data stored in the input .csv file. If we set the keyword argument `header` to `true`, we'll get a second output array."
   ]
  },
  {
   "cell_type": "code",
   "execution_count": 4,
   "metadata": {},
   "outputs": [],
   "source": [
    "using CSV, DataFrames"
   ]
  },
  {
   "cell_type": "code",
   "execution_count": 5,
   "metadata": {},
   "outputs": [
    {
     "data": {
      "text/html": [
       "<table class=\"data-frame\"><thead><tr><th></th><th>year</th><th>language</th></tr><tr><th></th><th>Int64⍰</th><th>String⍰</th></tr></thead><tbody><tr><th>1</th><td>1951</td><td>Regional Assembly Language</td></tr><tr><th>2</th><td>1952</td><td>Autocode</td></tr><tr><th>3</th><td>1954</td><td>IPL</td></tr><tr><th>4</th><td>1955</td><td>FLOW-MATIC</td></tr><tr><th>5</th><td>1957</td><td>FORTRAN</td></tr><tr><th>6</th><td>1957</td><td>COMTRAN</td></tr><tr><th>7</th><td>1958</td><td>LISP</td></tr><tr><th>8</th><td>1958</td><td>ALGOL 58</td></tr><tr><th>9</th><td>1959</td><td>FACT</td></tr><tr><th>10</th><td>1959</td><td>COBOL</td></tr><tr><th>11</th><td>1959</td><td>RPG</td></tr><tr><th>12</th><td>1962</td><td>APL</td></tr><tr><th>13</th><td>1962</td><td>Simula</td></tr><tr><th>14</th><td>1962</td><td>SNOBOL</td></tr><tr><th>15</th><td>1963</td><td>CPL</td></tr><tr><th>16</th><td>1964</td><td>Speakeasy</td></tr><tr><th>17</th><td>1964</td><td>BASIC</td></tr><tr><th>18</th><td>1964</td><td>PL/I</td></tr><tr><th>19</th><td>1966</td><td>JOSS</td></tr><tr><th>20</th><td>1967</td><td>BCPL</td></tr><tr><th>21</th><td>1968</td><td>Logo</td></tr><tr><th>22</th><td>1969</td><td>B</td></tr><tr><th>23</th><td>1970</td><td>Pascal</td></tr><tr><th>24</th><td>1970</td><td>Forth</td></tr><tr><th>25</th><td>1972</td><td>C</td></tr><tr><th>26</th><td>1972</td><td>Smalltalk</td></tr><tr><th>27</th><td>1972</td><td>Prolog</td></tr><tr><th>28</th><td>1973</td><td>ML</td></tr><tr><th>29</th><td>1975</td><td>Scheme</td></tr><tr><th>30</th><td>1978</td><td>SQL </td></tr><tr><th>&vellip;</th><td>&vellip;</td><td>&vellip;</td></tr></tbody></table>"
      ],
      "text/plain": [
       "73×2 DataFrame\n",
       "│ Row │ year   │ language                   │\n",
       "│     │ \u001b[90mInt64⍰\u001b[39m │ \u001b[90mUnion{Missing, String}\u001b[39m     │\n",
       "├─────┼────────┼────────────────────────────┤\n",
       "│ 1   │ 1951   │ Regional Assembly Language │\n",
       "│ 2   │ 1952   │ Autocode                   │\n",
       "│ 3   │ 1954   │ IPL                        │\n",
       "│ 4   │ 1955   │ FLOW-MATIC                 │\n",
       "│ 5   │ 1957   │ FORTRAN                    │\n",
       "│ 6   │ 1957   │ COMTRAN                    │\n",
       "│ 7   │ 1958   │ LISP                       │\n",
       "│ 8   │ 1958   │ ALGOL 58                   │\n",
       "│ 9   │ 1959   │ FACT                       │\n",
       "│ 10  │ 1959   │ COBOL                      │\n",
       "⋮\n",
       "│ 63  │ 2005   │ F#                         │\n",
       "│ 64  │ 2006   │ PowerShell                 │\n",
       "│ 65  │ 2007   │ Clojure                    │\n",
       "│ 66  │ 2009   │ Go                         │\n",
       "│ 67  │ 2010   │ Rust                       │\n",
       "│ 68  │ 2011   │ Dart                       │\n",
       "│ 69  │ 2011   │ Kotlin                     │\n",
       "│ 70  │ 2011   │ Red                        │\n",
       "│ 71  │ 2011   │ Elixir                     │\n",
       "│ 72  │ 2012   │ Julia                      │\n",
       "│ 73  │ 2014   │ Swift                      │"
      ]
     },
     "execution_count": 5,
     "metadata": {},
     "output_type": "execute_result"
    }
   ],
   "source": [
    "P = CSV.read(\"programminglanguages.csv\",sink=DataFrame)\n",
    "H = names(P)\n",
    "P"
   ]
  },
  {
   "cell_type": "markdown",
   "metadata": {},
   "source": [
    "Here we write our first small function. <br>\n",
    "Now you can answer questions such as, \"when was language X created?\""
   ]
  },
  {
   "cell_type": "code",
   "execution_count": 6,
   "metadata": {},
   "outputs": [
    {
     "data": {
      "text/plain": [
       "language_created_year (generic function with 1 method)"
      ]
     },
     "execution_count": 6,
     "metadata": {},
     "output_type": "execute_result"
    }
   ],
   "source": [
    "function language_created_year(P,language::String)\n",
    "    loc = findall(P[2].==language)\n",
    "    return P[1][loc]\n",
    "end"
   ]
  },
  {
   "cell_type": "code",
   "execution_count": 7,
   "metadata": {},
   "outputs": [
    {
     "data": {
      "text/plain": [
       "1-element Array{Union{Missing, Int64},1}:\n",
       " 2012"
      ]
     },
     "execution_count": 7,
     "metadata": {},
     "output_type": "execute_result"
    }
   ],
   "source": [
    "language_created_year(P,\"Julia\")"
   ]
  },
  {
   "cell_type": "code",
   "execution_count": 8,
   "metadata": {},
   "outputs": [
    {
     "data": {
      "text/plain": [
       "0-element Array{Union{Missing, Int64},1}"
      ]
     },
     "execution_count": 8,
     "metadata": {},
     "output_type": "execute_result"
    }
   ],
   "source": [
    "language_created_year(P,\"julia\")"
   ]
  },
  {
   "cell_type": "markdown",
   "metadata": {},
   "source": [
    "As expected, this will not return what you want, but thankfully, string manipulation is really easy in Julia!"
   ]
  },
  {
   "cell_type": "code",
   "execution_count": 9,
   "metadata": {},
   "outputs": [
    {
     "data": {
      "text/plain": [
       "1-element Array{Union{Missing, Int64},1}:\n",
       " 2012"
      ]
     },
     "execution_count": 9,
     "metadata": {},
     "output_type": "execute_result"
    }
   ],
   "source": [
    "function language_created_year_v2(P,language::String)\n",
    "    loc = findall(lowercase.(P[2]).==lowercase.(language))\n",
    "    return P[loc,1]\n",
    "end\n",
    "language_created_year_v2(P,\"julia\")"
   ]
  },
  {
   "cell_type": "markdown",
   "metadata": {},
   "source": [
    "**Reading and writing to files is really easy in Julia.** <br>\n",
    "\n",
    "You can use different delimiters with the function `readdlm` (`readcsv` is just an instance of `readdlm`). <br>\n",
    "\n",
    "To write to files, we can use `writecsv` or `writedlm`. <br>\n",
    "\n",
    "Let's write this same data to a file with a different delimiter."
   ]
  },
  {
   "cell_type": "code",
   "execution_count": 10,
   "metadata": {},
   "outputs": [
    {
     "data": {
      "text/plain": [
       "\"programming_languages_data.txt\""
      ]
     },
     "execution_count": 10,
     "metadata": {},
     "output_type": "execute_result"
    }
   ],
   "source": [
    "CSV.write(\"programming_languages_data.txt\", P, delim='-')"
   ]
  },
  {
   "cell_type": "markdown",
   "metadata": {},
   "source": [
    "We can now check that this worked using a shell command to glance at the file,"
   ]
  },
  {
   "cell_type": "code",
   "execution_count": 11,
   "metadata": {},
   "outputs": [
    {
     "name": "stdout",
     "output_type": "stream",
     "text": [
      "year-language\n",
      "1951-Regional Assembly Language\n",
      "1952-Autocode\n",
      "1954-IPL\n",
      "1955-\"FLOW-MATIC\"\n",
      "1957-FORTRAN\n",
      "1957-COMTRAN\n",
      "1958-LISP\n",
      "1958-ALGOL 58\n",
      "1959-FACT\n"
     ]
    }
   ],
   "source": [
    ";head -n 10 programming_languages_data.txt"
   ]
  },
  {
   "cell_type": "markdown",
   "metadata": {},
   "source": [
    "and also check that we can use `readdlm` to read our new text file correctly."
   ]
  },
  {
   "cell_type": "code",
   "execution_count": 12,
   "metadata": {},
   "outputs": [
    {
     "data": {
      "text/plain": [
       "true"
      ]
     },
     "execution_count": 12,
     "metadata": {},
     "output_type": "execute_result"
    }
   ],
   "source": [
    "P_new_delim = CSV.read(\"programming_languages_data.txt\", delim='-');\n",
    "P == P_new_delim"
   ]
  },
  {
   "cell_type": "markdown",
   "metadata": {},
   "source": [
    "### Dictionaries\n",
    "Let's try to store the above data in a dictionary format!\n",
    "\n",
    "First, let's initialize an empty dictionary"
   ]
  },
  {
   "cell_type": "code",
   "execution_count": 13,
   "metadata": {},
   "outputs": [
    {
     "data": {
      "text/plain": [
       "Dict{Integer,Array{String,1}} with 0 entries"
      ]
     },
     "execution_count": 13,
     "metadata": {},
     "output_type": "execute_result"
    }
   ],
   "source": [
    "dict = Dict{Integer,Vector{String}}()"
   ]
  },
  {
   "cell_type": "markdown",
   "metadata": {},
   "source": [
    "Here we told Julia that we want `dict` to only accept integers as keys and vectors of strings as values.\n",
    "\n",
    "However, we could have initialized an empty dictionary without providing this information (depending on our application)."
   ]
  },
  {
   "cell_type": "code",
   "execution_count": 14,
   "metadata": {},
   "outputs": [
    {
     "data": {
      "text/plain": [
       "Dict{Any,Any} with 0 entries"
      ]
     },
     "execution_count": 14,
     "metadata": {},
     "output_type": "execute_result"
    }
   ],
   "source": [
    "dict2 = Dict()"
   ]
  },
  {
   "cell_type": "markdown",
   "metadata": {},
   "source": [
    "This dictionary takes keys and values of any type!\n",
    "\n",
    "Now, let's populate the dictionary with years as keys and vectors that hold all the programming languages created in each year as their values."
   ]
  },
  {
   "cell_type": "code",
   "execution_count": 15,
   "metadata": {},
   "outputs": [],
   "source": [
    "for i = 1:size(P,1)\n",
    "    year,lang = P[:year][i], P[:language][i]\n",
    "    \n",
    "    if year in keys(dict)\n",
    "        dict[year] = push!(dict[year],lang)\n",
    "    else\n",
    "        dict[year] = [lang]\n",
    "    end\n",
    "end"
   ]
  },
  {
   "cell_type": "markdown",
   "metadata": {},
   "source": [
    "Now you can pick whichever year you want and find what programming languages were invented in that year"
   ]
  },
  {
   "cell_type": "code",
   "execution_count": 16,
   "metadata": {},
   "outputs": [
    {
     "data": {
      "text/plain": [
       "2-element Array{String,1}:\n",
       " \"Groovy\"\n",
       " \"Scala\" "
      ]
     },
     "execution_count": 16,
     "metadata": {},
     "output_type": "execute_result"
    }
   ],
   "source": [
    "dict[2003]"
   ]
  },
  {
   "cell_type": "markdown",
   "metadata": {},
   "source": [
    "`DataFrames` provides the `describe` can give you quick statistics about each column in your dataframe "
   ]
  },
  {
   "cell_type": "code",
   "execution_count": 17,
   "metadata": {},
   "outputs": [
    {
     "ename": "UndefVarError",
     "evalue": "UndefVarError: df not defined",
     "output_type": "error",
     "traceback": [
      "UndefVarError: df not defined",
      "",
      "Stacktrace:",
      " [1] top-level scope at In[17]:1"
     ]
    }
   ],
   "source": [
    "describe(df)"
   ]
  },
  {
   "cell_type": "markdown",
   "metadata": {},
   "source": [
    "### RDatasets\n",
    "\n",
    "We can use RDatasets to play around with pre-existing datasets"
   ]
  },
  {
   "cell_type": "code",
   "execution_count": 18,
   "metadata": {},
   "outputs": [
    {
     "name": "stdout",
     "output_type": "stream",
     "text": [
      "\u001b[32m\u001b[1m Resolving\u001b[22m\u001b[39m package versions...\n",
      "\u001b[32m\u001b[1m  Updating\u001b[22m\u001b[39m `Project.toml`\n",
      " \u001b[90m [ce6b1742]\u001b[39m\u001b[92m + RDatasets v0.6.1\u001b[39m\n",
      "\u001b[32m\u001b[1m  Updating\u001b[22m\u001b[39m `Manifest.toml`\n",
      " \u001b[90m [8f5d6c58]\u001b[39m\u001b[92m + EzXML v0.9.0\u001b[39m\n",
      " \u001b[90m [5789e2e9]\u001b[39m\u001b[92m + FileIO v1.0.2\u001b[39m\n",
      " \u001b[90m [78c3b35d]\u001b[39m\u001b[92m + Mocking v0.5.7\u001b[39m\n",
      " \u001b[90m [4d1e1d77]\u001b[39m\u001b[92m + Nullables v0.0.8\u001b[39m\n",
      " \u001b[90m [df47a6cb]\u001b[39m\u001b[92m + RData v0.5.0\u001b[39m\n",
      " \u001b[90m [ce6b1742]\u001b[39m\u001b[92m + RDatasets v0.6.1\u001b[39m\n",
      " \u001b[90m [f269a46b]\u001b[39m\u001b[92m + TimeZones v0.8.2\u001b[39m\n"
     ]
    },
    {
     "data": {
      "text/html": [
       "<table class=\"data-frame\"><thead><tr><th></th><th>SepalLength</th><th>SepalWidth</th><th>PetalLength</th><th>PetalWidth</th><th>Species</th></tr><tr><th></th><th>Float64</th><th>Float64</th><th>Float64</th><th>Float64</th><th>Categorical…</th></tr></thead><tbody><tr><th>1</th><td>5.1</td><td>3.5</td><td>1.4</td><td>0.2</td><td>setosa</td></tr><tr><th>2</th><td>4.9</td><td>3.0</td><td>1.4</td><td>0.2</td><td>setosa</td></tr><tr><th>3</th><td>4.7</td><td>3.2</td><td>1.3</td><td>0.2</td><td>setosa</td></tr><tr><th>4</th><td>4.6</td><td>3.1</td><td>1.5</td><td>0.2</td><td>setosa</td></tr><tr><th>5</th><td>5.0</td><td>3.6</td><td>1.4</td><td>0.2</td><td>setosa</td></tr><tr><th>6</th><td>5.4</td><td>3.9</td><td>1.7</td><td>0.4</td><td>setosa</td></tr><tr><th>7</th><td>4.6</td><td>3.4</td><td>1.4</td><td>0.3</td><td>setosa</td></tr><tr><th>8</th><td>5.0</td><td>3.4</td><td>1.5</td><td>0.2</td><td>setosa</td></tr><tr><th>9</th><td>4.4</td><td>2.9</td><td>1.4</td><td>0.2</td><td>setosa</td></tr><tr><th>10</th><td>4.9</td><td>3.1</td><td>1.5</td><td>0.1</td><td>setosa</td></tr><tr><th>11</th><td>5.4</td><td>3.7</td><td>1.5</td><td>0.2</td><td>setosa</td></tr><tr><th>12</th><td>4.8</td><td>3.4</td><td>1.6</td><td>0.2</td><td>setosa</td></tr><tr><th>13</th><td>4.8</td><td>3.0</td><td>1.4</td><td>0.1</td><td>setosa</td></tr><tr><th>14</th><td>4.3</td><td>3.0</td><td>1.1</td><td>0.1</td><td>setosa</td></tr><tr><th>15</th><td>5.8</td><td>4.0</td><td>1.2</td><td>0.2</td><td>setosa</td></tr><tr><th>16</th><td>5.7</td><td>4.4</td><td>1.5</td><td>0.4</td><td>setosa</td></tr><tr><th>17</th><td>5.4</td><td>3.9</td><td>1.3</td><td>0.4</td><td>setosa</td></tr><tr><th>18</th><td>5.1</td><td>3.5</td><td>1.4</td><td>0.3</td><td>setosa</td></tr><tr><th>19</th><td>5.7</td><td>3.8</td><td>1.7</td><td>0.3</td><td>setosa</td></tr><tr><th>20</th><td>5.1</td><td>3.8</td><td>1.5</td><td>0.3</td><td>setosa</td></tr><tr><th>21</th><td>5.4</td><td>3.4</td><td>1.7</td><td>0.2</td><td>setosa</td></tr><tr><th>22</th><td>5.1</td><td>3.7</td><td>1.5</td><td>0.4</td><td>setosa</td></tr><tr><th>23</th><td>4.6</td><td>3.6</td><td>1.0</td><td>0.2</td><td>setosa</td></tr><tr><th>24</th><td>5.1</td><td>3.3</td><td>1.7</td><td>0.5</td><td>setosa</td></tr><tr><th>25</th><td>4.8</td><td>3.4</td><td>1.9</td><td>0.2</td><td>setosa</td></tr><tr><th>26</th><td>5.0</td><td>3.0</td><td>1.6</td><td>0.2</td><td>setosa</td></tr><tr><th>27</th><td>5.0</td><td>3.4</td><td>1.6</td><td>0.4</td><td>setosa</td></tr><tr><th>28</th><td>5.2</td><td>3.5</td><td>1.5</td><td>0.2</td><td>setosa</td></tr><tr><th>29</th><td>5.2</td><td>3.4</td><td>1.4</td><td>0.2</td><td>setosa</td></tr><tr><th>30</th><td>4.7</td><td>3.2</td><td>1.6</td><td>0.2</td><td>setosa</td></tr><tr><th>&vellip;</th><td>&vellip;</td><td>&vellip;</td><td>&vellip;</td><td>&vellip;</td><td>&vellip;</td></tr></tbody></table>"
      ],
      "text/plain": [
       "150×5 DataFrame\n",
       "│ Row │ SepalLength │ SepalWidth │ PetalLength │ PetalWidth │ Species      │\n",
       "│     │ \u001b[90mFloat64\u001b[39m     │ \u001b[90mFloat64\u001b[39m    │ \u001b[90mFloat64\u001b[39m     │ \u001b[90mFloat64\u001b[39m    │ \u001b[90mCategorical…\u001b[39m │\n",
       "├─────┼─────────────┼────────────┼─────────────┼────────────┼──────────────┤\n",
       "│ 1   │ 5.1         │ 3.5        │ 1.4         │ 0.2        │ setosa       │\n",
       "│ 2   │ 4.9         │ 3.0        │ 1.4         │ 0.2        │ setosa       │\n",
       "│ 3   │ 4.7         │ 3.2        │ 1.3         │ 0.2        │ setosa       │\n",
       "│ 4   │ 4.6         │ 3.1        │ 1.5         │ 0.2        │ setosa       │\n",
       "│ 5   │ 5.0         │ 3.6        │ 1.4         │ 0.2        │ setosa       │\n",
       "│ 6   │ 5.4         │ 3.9        │ 1.7         │ 0.4        │ setosa       │\n",
       "│ 7   │ 4.6         │ 3.4        │ 1.4         │ 0.3        │ setosa       │\n",
       "│ 8   │ 5.0         │ 3.4        │ 1.5         │ 0.2        │ setosa       │\n",
       "│ 9   │ 4.4         │ 2.9        │ 1.4         │ 0.2        │ setosa       │\n",
       "│ 10  │ 4.9         │ 3.1        │ 1.5         │ 0.1        │ setosa       │\n",
       "⋮\n",
       "│ 140 │ 6.9         │ 3.1        │ 5.4         │ 2.1        │ virginica    │\n",
       "│ 141 │ 6.7         │ 3.1        │ 5.6         │ 2.4        │ virginica    │\n",
       "│ 142 │ 6.9         │ 3.1        │ 5.1         │ 2.3        │ virginica    │\n",
       "│ 143 │ 5.8         │ 2.7        │ 5.1         │ 1.9        │ virginica    │\n",
       "│ 144 │ 6.8         │ 3.2        │ 5.9         │ 2.3        │ virginica    │\n",
       "│ 145 │ 6.7         │ 3.3        │ 5.7         │ 2.5        │ virginica    │\n",
       "│ 146 │ 6.7         │ 3.0        │ 5.2         │ 2.3        │ virginica    │\n",
       "│ 147 │ 6.3         │ 2.5        │ 5.0         │ 1.9        │ virginica    │\n",
       "│ 148 │ 6.5         │ 3.0        │ 5.2         │ 2.0        │ virginica    │\n",
       "│ 149 │ 6.2         │ 3.4        │ 5.4         │ 2.3        │ virginica    │\n",
       "│ 150 │ 5.9         │ 3.0        │ 5.1         │ 1.8        │ virginica    │"
      ]
     },
     "execution_count": 18,
     "metadata": {},
     "output_type": "execute_result"
    }
   ],
   "source": [
    "Pkg.add(\"RDatasets\")\n",
    "using RDatasets\n",
    "iris = dataset(\"datasets\", \"iris\")"
   ]
  },
  {
   "cell_type": "markdown",
   "metadata": {},
   "source": [
    "Note that data loaded with `dataset` is stored as a DataFrame. 😃"
   ]
  },
  {
   "cell_type": "code",
   "execution_count": 19,
   "metadata": {},
   "outputs": [
    {
     "data": {
      "text/plain": [
       "DataFrame"
      ]
     },
     "execution_count": 19,
     "metadata": {},
     "output_type": "execute_result"
    }
   ],
   "source": [
    "typeof(iris) "
   ]
  },
  {
   "cell_type": "markdown",
   "metadata": {},
   "source": [
    "The summary we get from `describe` on `iris` gives us a lot more information than the summary on `df`!"
   ]
  },
  {
   "cell_type": "code",
   "execution_count": 20,
   "metadata": {},
   "outputs": [
    {
     "data": {
      "text/html": [
       "<table class=\"data-frame\"><thead><tr><th></th><th>variable</th><th>mean</th><th>min</th><th>median</th><th>max</th><th>nunique</th><th>nmissing</th><th>eltype</th></tr><tr><th></th><th>Symbol</th><th>Union…</th><th>Any</th><th>Union…</th><th>Any</th><th>Union…</th><th>Nothing</th><th>DataType</th></tr></thead><tbody><tr><th>1</th><td>SepalLength</td><td>5.84333</td><td>4.3</td><td>5.8</td><td>7.9</td><td></td><td></td><td>Float64</td></tr><tr><th>2</th><td>SepalWidth</td><td>3.05733</td><td>2.0</td><td>3.0</td><td>4.4</td><td></td><td></td><td>Float64</td></tr><tr><th>3</th><td>PetalLength</td><td>3.758</td><td>1.0</td><td>4.35</td><td>6.9</td><td></td><td></td><td>Float64</td></tr><tr><th>4</th><td>PetalWidth</td><td>1.19933</td><td>0.1</td><td>1.3</td><td>2.5</td><td></td><td></td><td>Float64</td></tr><tr><th>5</th><td>Species</td><td></td><td>setosa</td><td></td><td>virginica</td><td>3</td><td></td><td>CategoricalString{UInt8}</td></tr></tbody></table>"
      ],
      "text/plain": [
       "5×8 DataFrame. Omitted printing of 2 columns\n",
       "│ Row │ variable    │ mean    │ min    │ median │ max       │ nunique │\n",
       "│     │ \u001b[90mSymbol\u001b[39m      │ \u001b[90mUnion…\u001b[39m  │ \u001b[90mAny\u001b[39m    │ \u001b[90mUnion…\u001b[39m │ \u001b[90mAny\u001b[39m       │ \u001b[90mUnion…\u001b[39m  │\n",
       "├─────┼─────────────┼─────────┼────────┼────────┼───────────┼─────────┤\n",
       "│ 1   │ SepalLength │ 5.84333 │ 4.3    │ 5.8    │ 7.9       │         │\n",
       "│ 2   │ SepalWidth  │ 3.05733 │ 2.0    │ 3.0    │ 4.4       │         │\n",
       "│ 3   │ PetalLength │ 3.758   │ 1.0    │ 4.35   │ 6.9       │         │\n",
       "│ 4   │ PetalWidth  │ 1.19933 │ 0.1    │ 1.3    │ 2.5       │         │\n",
       "│ 5   │ Species     │         │ setosa │        │ virginica │ 3       │"
      ]
     },
     "execution_count": 20,
     "metadata": {},
     "output_type": "execute_result"
    }
   ],
   "source": [
    "describe(iris)"
   ]
  },
  {
   "cell_type": "markdown",
   "metadata": {},
   "source": [
    "### `DataArrays`\n",
    "\n",
    "You can create `DataArray`s as follows"
   ]
  },
  {
   "cell_type": "markdown",
   "metadata": {},
   "source": [
    "### FileIO"
   ]
  },
  {
   "cell_type": "code",
   "execution_count": 21,
   "metadata": {},
   "outputs": [
    {
     "name": "stdout",
     "output_type": "stream",
     "text": [
      "\u001b[32m\u001b[1m Resolving\u001b[22m\u001b[39m package versions...\n",
      "\u001b[32m\u001b[1m  Updating\u001b[22m\u001b[39m `Project.toml`\n",
      " \u001b[90m [5789e2e9]\u001b[39m\u001b[92m + FileIO v1.0.2\u001b[39m\n",
      "\u001b[32m\u001b[1m  Updating\u001b[22m\u001b[39m `Manifest.toml`\n",
      "\u001b[90m [no changes]\u001b[39m\n",
      "\u001b[32m\u001b[1m Resolving\u001b[22m\u001b[39m package versions...\n",
      "\u001b[32m\u001b[1m  Updating\u001b[22m\u001b[39m `Project.toml`\n",
      " \u001b[90m [6218d12a]\u001b[39m\u001b[92m + ImageMagick v0.7.1\u001b[39m\n",
      "\u001b[32m\u001b[1m  Updating\u001b[22m\u001b[39m `Manifest.toml`\n",
      " \u001b[90m [621f4979]\u001b[39m\u001b[92m + AbstractFFTs v0.3.2\u001b[39m\n",
      " \u001b[90m [8f4d0f93]\u001b[39m\u001b[92m + Conda v1.1.1\u001b[39m\n",
      " \u001b[90m [7a1cc6ca]\u001b[39m\u001b[92m + FFTW v0.2.4\u001b[39m\n",
      " \u001b[90m [a2bd30eb]\u001b[39m\u001b[92m + Graphics v0.4.0\u001b[39m\n",
      " \u001b[90m [a09fc81d]\u001b[39m\u001b[92m + ImageCore v0.7.3\u001b[39m\n",
      " \u001b[90m [6218d12a]\u001b[39m\u001b[92m + ImageMagick v0.7.1\u001b[39m\n",
      " \u001b[90m [dbb5928d]\u001b[39m\u001b[92m + MappedArrays v0.2.1\u001b[39m\n",
      " \u001b[90m [6fe1bfb0]\u001b[39m\u001b[92m + OffsetArrays v0.8.1\u001b[39m\n",
      " \u001b[90m [5432bcbf]\u001b[39m\u001b[92m + PaddedViews v0.4.2\u001b[39m\n",
      " \u001b[90m [81def892]\u001b[39m\u001b[92m + VersionParsing v1.1.3\u001b[39m\n",
      "\u001b[32m\u001b[1m Resolving\u001b[22m\u001b[39m package versions...\n",
      "\u001b[32m\u001b[1m  Updating\u001b[22m\u001b[39m `Project.toml`\n",
      " \u001b[90m [dca85d43]\u001b[39m\u001b[92m + QuartzImageIO v0.5.0\u001b[39m\n",
      "\u001b[32m\u001b[1m  Updating\u001b[22m\u001b[39m `Manifest.toml`\n",
      " \u001b[90m [c3611d14]\u001b[39m\u001b[92m + ColorVectorSpace v0.6.2\u001b[39m\n",
      " \u001b[90m [dca85d43]\u001b[39m\u001b[92m + QuartzImageIO v0.5.0\u001b[39m\n",
      "\u001b[32m\u001b[1m Resolving\u001b[22m\u001b[39m package versions...\n",
      "\u001b[32m\u001b[1m  Updating\u001b[22m\u001b[39m `Project.toml`\n",
      " \u001b[90m [916415d5]\u001b[39m\u001b[92m + Images v0.16.1\u001b[39m\n",
      "\u001b[32m\u001b[1m  Updating\u001b[22m\u001b[39m `Manifest.toml`\n",
      " \u001b[90m [13072b0f]\u001b[39m\u001b[92m + AxisAlgorithms v0.3.0\u001b[39m\n",
      " \u001b[90m [39de3d68]\u001b[39m\u001b[92m + AxisArrays v0.3.0\u001b[39m\n",
      " \u001b[90m [aafaddc9]\u001b[39m\u001b[92m + CatIndices v0.2.0\u001b[39m\n",
      " \u001b[90m [ed09eef8]\u001b[39m\u001b[92m + ComputationalResources v0.3.0\u001b[39m\n",
      " \u001b[90m [150eb455]\u001b[39m\u001b[92m + CoordinateTransformations v0.5.0\u001b[39m\n",
      " \u001b[90m [dc8bdbbb]\u001b[39m\u001b[92m + CustomUnitRanges v0.2.0\u001b[39m\n",
      " \u001b[90m [4f61f5a4]\u001b[39m\u001b[92m + FFTViews v0.2.0\u001b[39m\n",
      " \u001b[90m [bbac6d45]\u001b[39m\u001b[92m + IdentityRanges v0.2.0\u001b[39m\n",
      " \u001b[90m [2803e5a7]\u001b[39m\u001b[92m + ImageAxes v0.5.0\u001b[39m\n",
      " \u001b[90m [51556ac3]\u001b[39m\u001b[92m + ImageDistances v0.1.1\u001b[39m\n",
      " \u001b[90m [6a3955dd]\u001b[39m\u001b[92m + ImageFiltering v0.5.0\u001b[39m\n",
      " \u001b[90m [bc367c6b]\u001b[39m\u001b[92m + ImageMetadata v0.5.1\u001b[39m\n",
      " \u001b[90m [787d08f9]\u001b[39m\u001b[92m + ImageMorphology v0.1.1\u001b[39m\n",
      " \u001b[90m [4e3cecfd]\u001b[39m\u001b[92m + ImageShow v0.1.1\u001b[39m\n",
      " \u001b[90m [02fcd773]\u001b[39m\u001b[92m + ImageTransformations v0.7.0\u001b[39m\n",
      " \u001b[90m [916415d5]\u001b[39m\u001b[92m + Images v0.16.1\u001b[39m\n",
      " \u001b[90m [9b13fd28]\u001b[39m\u001b[92m + IndirectArrays v0.5.0\u001b[39m\n",
      " \u001b[90m [a98d9a8b]\u001b[39m\u001b[92m + Interpolations v0.10.5\u001b[39m\n",
      " \u001b[90m [8197267c]\u001b[39m\u001b[92m + IntervalSets v0.3.1\u001b[39m\n",
      " \u001b[90m [92933f4c]\u001b[39m\u001b[92m + ProgressMeter v0.6.1\u001b[39m\n",
      " \u001b[90m [b3c3ace0]\u001b[39m\u001b[92m + RangeArrays v0.3.1\u001b[39m\n",
      " \u001b[90m [c84ed2f1]\u001b[39m\u001b[92m + Ratios v0.3.0\u001b[39m\n",
      " \u001b[90m [6038ab10]\u001b[39m\u001b[92m + Rotations v0.9.1\u001b[39m\n",
      " \u001b[90m [b9d75638]\u001b[39m\u001b[92m + SIUnits v0.1.0\u001b[39m\n",
      " \u001b[90m [9b435220]\u001b[39m\u001b[92m + TexExtensions v0.1.0\u001b[39m\n",
      " \u001b[90m [06e1c1a7]\u001b[39m\u001b[92m + TiledIteration v0.2.3\u001b[39m\n",
      " \u001b[90m [efce3f68]\u001b[39m\u001b[92m + WoodburyMatrices v0.4.1\u001b[39m\n"
     ]
    },
    {
     "name": "stderr",
     "output_type": "stream",
     "text": [
      "  % Total    % Received % Xferd  Average Speed   Time    Time     Time  Current\n",
      "                                 Dload  Upload   Total   Spent    Left  Speed\n",
      "100 12791  100 12791    0     0  50160      0 --:--:-- --:--:-- --:--:-- 50358\n"
     ]
    },
    {
     "data": {
      "text/plain": [
       "\"julialogo.png\""
      ]
     },
     "execution_count": 21,
     "metadata": {},
     "output_type": "execute_result"
    }
   ],
   "source": [
    "Pkg.add.([\"FileIO\", \"ImageMagick\", \"QuartzImageIO\", \"Images\"])\n",
    "using FileIO\n",
    "using Images\n",
    "julialogo = download(\"https://avatars0.githubusercontent.com/u/743164?s=200&v=4\",\"julialogo.png\")"
   ]
  },
  {
   "cell_type": "markdown",
   "metadata": {},
   "source": [
    "Next, let's load the Julia logo, stored as a .png file"
   ]
  },
  {
   "cell_type": "code",
   "execution_count": 22,
   "metadata": {},
   "outputs": [],
   "source": [
    "X1 = load(\"julialogo.png\");"
   ]
  },
  {
   "cell_type": "markdown",
   "metadata": {},
   "source": [
    "We see below that Julia stores this logo as an array of colors."
   ]
  },
  {
   "cell_type": "code",
   "execution_count": 23,
   "metadata": {},
   "outputs": [
    {
     "data": {
      "image/png": "[encoded data removed]",
      "text/plain": [
       "200×200 reshape(reinterpret(RGBA{N0f8}, reinterpret(N0f8, ::Array{RGBA{N0f8},3})), 200, 200) with eltype RGBA{Normed{UInt8,8}}:\n",
       " RGBA{N0f8}(0.0,0.0,0.0,0.0)  …  RGBA{N0f8}(0.0,0.0,0.0,0.0)\n",
       " RGBA{N0f8}(0.0,0.0,0.0,0.0)     RGBA{N0f8}(0.0,0.0,0.0,0.0)\n",
       " RGBA{N0f8}(0.0,0.0,0.0,0.0)     RGBA{N0f8}(0.0,0.0,0.0,0.0)\n",
       " RGBA{N0f8}(0.0,0.0,0.0,0.0)     RGBA{N0f8}(0.0,0.0,0.0,0.0)\n",
       " RGBA{N0f8}(0.0,0.0,0.0,0.0)     RGBA{N0f8}(0.0,0.0,0.0,0.0)\n",
       " RGBA{N0f8}(0.0,0.0,0.0,0.0)  …  RGBA{N0f8}(0.0,0.0,0.0,0.0)\n",
       " RGBA{N0f8}(0.0,0.0,0.0,0.0)     RGBA{N0f8}(0.0,0.0,0.0,0.0)\n",
       " RGBA{N0f8}(0.0,0.0,0.0,0.0)     RGBA{N0f8}(0.0,0.0,0.0,0.0)\n",
       " RGBA{N0f8}(0.0,0.0,0.0,0.0)     RGBA{N0f8}(0.0,0.0,0.0,0.0)\n",
       " RGBA{N0f8}(0.0,0.0,0.0,0.0)     RGBA{N0f8}(0.0,0.0,0.0,0.0)\n",
       " RGBA{N0f8}(0.0,0.0,0.0,0.0)  …  RGBA{N0f8}(0.0,0.0,0.0,0.0)\n",
       " RGBA{N0f8}(0.0,0.0,0.0,0.0)     RGBA{N0f8}(0.0,0.0,0.0,0.0)\n",
       " RGBA{N0f8}(0.0,0.0,0.0,0.0)     RGBA{N0f8}(0.0,0.0,0.0,0.0)\n",
       " ⋮                            ⋱                             \n",
       " RGBA{N0f8}(0.0,0.0,0.0,0.0)     RGBA{N0f8}(0.0,0.0,0.0,0.0)\n",
       " RGBA{N0f8}(0.0,0.0,0.0,0.0)     RGBA{N0f8}(0.0,0.0,0.0,0.0)\n",
       " RGBA{N0f8}(0.0,0.0,0.0,0.0)  …  RGBA{N0f8}(0.0,0.0,0.0,0.0)\n",
       " RGBA{N0f8}(0.0,0.0,0.0,0.0)     RGBA{N0f8}(0.0,0.0,0.0,0.0)\n",
       " RGBA{N0f8}(0.0,0.0,0.0,0.0)     RGBA{N0f8}(0.0,0.0,0.0,0.0)\n",
       " RGBA{N0f8}(0.0,0.0,0.0,0.0)     RGBA{N0f8}(0.0,0.0,0.0,0.0)\n",
       " RGBA{N0f8}(0.0,0.0,0.0,0.0)     RGBA{N0f8}(0.0,0.0,0.0,0.0)\n",
       " RGBA{N0f8}(0.0,0.0,0.0,0.0)  …  RGBA{N0f8}(0.0,0.0,0.0,0.0)\n",
       " RGBA{N0f8}(0.0,0.0,0.0,0.0)     RGBA{N0f8}(0.0,0.0,0.0,0.0)\n",
       " RGBA{N0f8}(0.0,0.0,0.0,0.0)     RGBA{N0f8}(0.0,0.0,0.0,0.0)\n",
       " RGBA{N0f8}(0.0,0.0,0.0,0.0)     RGBA{N0f8}(0.0,0.0,0.0,0.0)\n",
       " RGBA{N0f8}(0.0,0.0,0.0,0.0)     RGBA{N0f8}(0.0,0.0,0.0,0.0)"
      ]
     },
     "execution_count": 23,
     "metadata": {},
     "output_type": "execute_result"
    }
   ],
   "source": [
    "Images.colorview(RGBA, X1)"
   ]
  },
  {
   "cell_type": "code",
   "execution_count": 24,
   "metadata": {},
   "outputs": [
    {
     "name": "stdout",
     "output_type": "stream",
     "text": [
      "typeof(X1) = Array{RGBA{Normed{UInt8,8}},2}\n",
      "size(X1) = (200, 200)\n"
     ]
    }
   ],
   "source": [
    "@show typeof(X1);\n",
    "@show size(X1);"
   ]
  },
  {
   "cell_type": "code",
   "execution_count": 25,
   "metadata": {},
   "outputs": [],
   "source": [
    "oraaaange = RGB(250/255,70/255,22/255)\n",
    "bluuuuuee = RGB(0,33/255, 165/255);"
   ]
  },
  {
   "cell_type": "code",
   "execution_count": 26,
   "metadata": {},
   "outputs": [
    {
     "data": {
      "image/png": "[encoded data removed]",
      "text/plain": [
       "200×200 reshape(reinterpret(RGBA{N0f8}, reinterpret(N0f8, ::Array{RGBA{N0f8},3})), 200, 200) with eltype RGBA{Normed{UInt8,8}}:\n",
       " RGBA{N0f8}(0.0,0.0,0.0,0.0)  …  RGBA{N0f8}(0.0,0.0,0.0,0.0)\n",
       " RGBA{N0f8}(0.0,0.0,0.0,0.0)     RGBA{N0f8}(0.0,0.0,0.0,0.0)\n",
       " RGBA{N0f8}(0.0,0.0,0.0,0.0)     RGBA{N0f8}(0.0,0.0,0.0,0.0)\n",
       " RGBA{N0f8}(0.0,0.0,0.0,0.0)     RGBA{N0f8}(0.0,0.0,0.0,0.0)\n",
       " RGBA{N0f8}(0.0,0.0,0.0,0.0)     RGBA{N0f8}(0.0,0.0,0.0,0.0)\n",
       " RGBA{N0f8}(0.0,0.0,0.0,0.0)  …  RGBA{N0f8}(0.0,0.0,0.0,0.0)\n",
       " RGBA{N0f8}(0.0,0.0,0.0,0.0)     RGBA{N0f8}(0.0,0.0,0.0,0.0)\n",
       " RGBA{N0f8}(0.0,0.0,0.0,0.0)     RGBA{N0f8}(0.0,0.0,0.0,0.0)\n",
       " RGBA{N0f8}(0.0,0.0,0.0,0.0)     RGBA{N0f8}(0.0,0.0,0.0,0.0)\n",
       " RGBA{N0f8}(0.0,0.0,0.0,0.0)     RGBA{N0f8}(0.0,0.0,0.0,0.0)\n",
       " RGBA{N0f8}(0.0,0.0,0.0,0.0)  …  RGBA{N0f8}(0.0,0.0,0.0,0.0)\n",
       " RGBA{N0f8}(0.0,0.0,0.0,0.0)     RGBA{N0f8}(0.0,0.0,0.0,0.0)\n",
       " RGBA{N0f8}(0.0,0.0,0.0,0.0)     RGBA{N0f8}(0.0,0.0,0.0,0.0)\n",
       " ⋮                            ⋱                             \n",
       " RGBA{N0f8}(0.0,0.0,0.0,0.0)     RGBA{N0f8}(0.0,0.0,0.0,0.0)\n",
       " RGBA{N0f8}(0.0,0.0,0.0,0.0)     RGBA{N0f8}(0.0,0.0,0.0,0.0)\n",
       " RGBA{N0f8}(0.0,0.0,0.0,0.0)  …  RGBA{N0f8}(0.0,0.0,0.0,0.0)\n",
       " RGBA{N0f8}(0.0,0.0,0.0,0.0)     RGBA{N0f8}(0.0,0.0,0.0,0.0)\n",
       " RGBA{N0f8}(0.0,0.0,0.0,0.0)     RGBA{N0f8}(0.0,0.0,0.0,0.0)\n",
       " RGBA{N0f8}(0.0,0.0,0.0,0.0)     RGBA{N0f8}(0.0,0.0,0.0,0.0)\n",
       " RGBA{N0f8}(0.0,0.0,0.0,0.0)     RGBA{N0f8}(0.0,0.0,0.0,0.0)\n",
       " RGBA{N0f8}(0.0,0.0,0.0,0.0)  …  RGBA{N0f8}(0.0,0.0,0.0,0.0)\n",
       " RGBA{N0f8}(0.0,0.0,0.0,0.0)     RGBA{N0f8}(0.0,0.0,0.0,0.0)\n",
       " RGBA{N0f8}(0.0,0.0,0.0,0.0)     RGBA{N0f8}(0.0,0.0,0.0,0.0)\n",
       " RGBA{N0f8}(0.0,0.0,0.0,0.0)     RGBA{N0f8}(0.0,0.0,0.0,0.0)\n",
       " RGBA{N0f8}(0.0,0.0,0.0,0.0)     RGBA{N0f8}(0.0,0.0,0.0,0.0)"
      ]
     },
     "execution_count": 26,
     "metadata": {},
     "output_type": "execute_result"
    }
   ],
   "source": [
    "X1[55:145,130:150] .= oraaaange\n",
    "X1[125:145,60:100] .= bluuuuuee\n",
    "X1[85:105,150:170] .= oraaaange\n",
    "X1[55:145,90:110]  .= bluuuuuee\n",
    "X1[55:75,150:190]  .= oraaaange\n",
    "X1[55:145,40:60]   .= bluuuuuee\n",
    "colorview(RGBA, X1)"
   ]
  }
 ],
 "metadata": {
  "kernelspec": {
   "display_name": "Julia 1.0.0",
   "language": "julia",
   "name": "julia-1.0"
  },
  "language_info": {
   "file_extension": ".jl",
   "mimetype": "application/julia",
   "name": "julia",
   "version": "1.0.0"
  }
 },
 "nbformat": 4,
 "nbformat_minor": 2
}
